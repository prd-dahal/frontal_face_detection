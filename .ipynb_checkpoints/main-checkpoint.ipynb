{
 "cells": [
  {
   "cell_type": "code",
   "execution_count": 1,
   "metadata": {},
   "outputs": [],
   "source": [
    "#import all dependcies \n",
    "import cv2"
   ]
  },
  {
   "cell_type": "code",
   "execution_count": null,
   "metadata": {},
   "outputs": [],
   "source": [
    "capture = cv2.VideoCapture(0) # caputres the video from the default camera (0 indicates the default camera)\n",
    "\n",
    "#load the cascade file in \n",
    "faces_cascade = cv2.CascadeClassifier('haarcascade_frontalface_default.xml')\n",
    "#runs until user press esc key i.e. ascii ==27\n",
    "while True: \n",
    "    #captures the frame and flag as per the fps of the camera\n",
    "    ret, frame = capture.read()\n",
    "    \n",
    "    #converts the BGR to GRAY becauase cascasde classifier works in \n",
    "    gray = cv2.cvtColor(frame, cv2.COLOR_BGR2GRAY)\n",
    "    \n",
    "    #get the 2d array of faces which containts the coordinate of left corner and width and height of rectangle \n",
    "    faces = faces_cascade.detectMultiscale(gray, 1.3, 5)\n",
    "    \n",
    "    #loop through all the faces that has been detected x,y is the left most corner of the face and w,h is width and height\n",
    "    for x,y,w,h in faces:\n",
    "        image = cv2.rectangle(frame, (x,y),(x+w,y+h),(255,0,0))\n",
    "    \n",
    "    #display video with the rectangle labled\n",
    "    cv2.imshow('Face Detection',image)\n",
    "    \n",
    "    #waitkey to exit\n",
    "    k =cv2.waitKey(5)\n",
    "    \n",
    "    #condition to exit\n",
    "    if(k==27):\n",
    "        break\n",
    "\n",
    "#release the camera\n",
    "capture.release()\n",
    "\n",
    "#close all windows \n",
    "\n",
    "cv2.destroyAllWindows()\n",
    "    "
   ]
  }
 ],
 "metadata": {
  "kernelspec": {
   "display_name": "Python 3",
   "language": "python",
   "name": "python3"
  },
  "language_info": {
   "codemirror_mode": {
    "name": "ipython",
    "version": 3
   },
   "file_extension": ".py",
   "mimetype": "text/x-python",
   "name": "python",
   "nbconvert_exporter": "python",
   "pygments_lexer": "ipython3",
   "version": "3.7.3"
  }
 },
 "nbformat": 4,
 "nbformat_minor": 2
}
